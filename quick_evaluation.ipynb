{
 "cells": [
  {
   "cell_type": "code",
   "execution_count": null,
   "metadata": {},
   "outputs": [],
   "source": [
    "# Homografileri otomatik olarak zorluklarina gore sirala.\n",
    "# Average corner movement falan gibi bir sey onemli burada.\n",
    "# Overlap ratio da onemli.\n",
    "# Photometric degisimler de onemli.\n",
    "# O zaman hic siralama yapmayabiliriz.\n",
    "# Bir decision tree ogrenebiliriz cok cesitli algortimalarla tum durumlari deneyip tablo cikararak."
   ]
  }
 ],
 "metadata": {
  "language_info": {
   "name": "python"
  },
  "orig_nbformat": 4
 },
 "nbformat": 4,
 "nbformat_minor": 2
}
