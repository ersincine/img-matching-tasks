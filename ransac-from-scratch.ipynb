{
 "cells": [
  {
   "cell_type": "code",
   "execution_count": null,
   "metadata": {},
   "outputs": [],
   "source": [
    "# Yapabildigimiz en gelismis RANSAC.\n",
    "# USAC algoritmalari da olsa iyi olur. Ama pek gercekci degil.\n",
    "\n",
    "# NumPy'a dependency olacak.\n",
    "# Belki OpenCV'ye de olabilir ama findHomography fonksiyonuna degil!\n",
    "\n",
    "# Sampling: Uniform, PROSAC.\n",
    "# Score: RANSAC, MSAC, LMeds.\n",
    "# Error metric: re-projection distance, symmetric reprojection distance.\n",
    "# Degeneracy: Collinearity test  \n",
    "# SPRT verification\n",
    "# Local Optimization: ?\n",
    "\n",
    "# NONE_POLISHER, LSQ_POLISHER"
   ]
  },
  {
   "cell_type": "code",
   "execution_count": null,
   "metadata": {},
   "outputs": [],
   "source": [
    "# Bu projeye gercekten gerek var mi?"
   ]
  }
 ],
 "metadata": {
  "language_info": {
   "name": "python"
  },
  "orig_nbformat": 4
 },
 "nbformat": 4,
 "nbformat_minor": 2
}
